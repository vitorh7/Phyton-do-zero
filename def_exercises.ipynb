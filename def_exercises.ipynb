{
  "nbformat": 4,
  "nbformat_minor": 0,
  "metadata": {
    "colab": {
      "provenance": [],
      "authorship_tag": "ABX9TyPEKV0ZmwG/miSe9bMGxZHL",
      "include_colab_link": true
    },
    "kernelspec": {
      "name": "python3",
      "display_name": "Python 3"
    },
    "language_info": {
      "name": "python"
    }
  },
  "cells": [
    {
      "cell_type": "markdown",
      "metadata": {
        "id": "view-in-github",
        "colab_type": "text"
      },
      "source": [
        "<a href=\"https://colab.research.google.com/github/vitorh7/Phyton-do-zero/blob/main/def_exercises.ipynb\" target=\"_parent\"><img src=\"https://colab.research.google.com/assets/colab-badge.svg\" alt=\"Open In Colab\"/></a>"
      ]
    },
    {
      "cell_type": "markdown",
      "source": [
        "1. Crie uma função chamada soma_pares(lista) que receba uma lista de números inteiros e retorne a soma de todos os números pares da lista."
      ],
      "metadata": {
        "id": "Iib5V5PltWuH"
      }
    },
    {
      "cell_type": "code",
      "source": [
        "lista = []\n",
        "def soma_pares(lista):\n",
        "  soma=0\n",
        "  for numero in lista:\n",
        "    if numero % 2 == 0:\n",
        "      soma += numero\n",
        "  return soma\n",
        "while True:\n",
        "  try:\n",
        "    escolha = int(input('Digite um número ou zero -> 0 para sair: '))\n",
        "    if escolha == 0:\n",
        "      break\n",
        "    else:\n",
        "      lista.append(escolha)\n",
        "  except ValueError:\n",
        "    print('Digite um valor válido! Só números inteiros.')\n",
        "    continue\n",
        "print(f\"A soma dos números pares da sua lista é {soma_pares(lista)}\")"
      ],
      "metadata": {
        "colab": {
          "base_uri": "https://localhost:8080/"
        },
        "id": "3pSe0E8qtZVK",
        "outputId": "58031d91-afec-42e2-bc17-912ecf39e19a"
      },
      "execution_count": 3,
      "outputs": [
        {
          "output_type": "stream",
          "name": "stdout",
          "text": [
            "Digite um número ou zero -> 0 para sair: ABIGABIL\n",
            "Digite um valor válido! Só números inteiros.\n",
            "Digite um número ou zero -> 0 para sair: 4.5\n",
            "Digite um valor válido! Só números inteiros.\n",
            "Digite um número ou zero -> 0 para sair: 4\n",
            "Digite um número ou zero -> 0 para sair: 5\n",
            "Digite um número ou zero -> 0 para sair: 6\n",
            "Digite um número ou zero -> 0 para sair: 7\n",
            "Digite um número ou zero -> 0 para sair: 8\n",
            "Digite um número ou zero -> 0 para sair: 9\n",
            "Digite um número ou zero -> 0 para sair: 0\n",
            "A soma dos números pares da sua lista é 18\n"
          ]
        }
      ]
    },
    {
      "cell_type": "markdown",
      "source": [
        "2. Implemente uma função conta_vogais(texto) que receba uma string e retorne a quantidade de vogais (a, e, i, o, u) presentes nela, desconsiderando maiúsculas e minúsculas.\n"
      ],
      "metadata": {
        "id": "XzTMQPWdsfKS"
      }
    },
    {
      "cell_type": "code",
      "source": [],
      "metadata": {
        "id": "1ZRywe_U353P"
      },
      "execution_count": null,
      "outputs": []
    },
    {
      "cell_type": "code",
      "execution_count": null,
      "metadata": {
        "colab": {
          "base_uri": "https://localhost:8080/"
        },
        "id": "XPMphiVXsTwV",
        "outputId": "3548ec18-fc36-4331-d022-eb567cb412fc"
      },
      "outputs": [
        {
          "output_type": "stream",
          "name": "stdout",
          "text": [
            "Digite caracteres ou sair para finalizar: dedededede\n",
            "A quantidades de vogais a, e, i, o, u são: <function vogais at 0x7a52fd13c540>.\n"
          ]
        }
      ],
      "source": [
        "def vogais(n):\n",
        "  vogais_dic = {\"a\":0, \"e\":0, \"i\":0, \"o\":0, \"u\":0}\n",
        "  for letra in n:\n",
        "    if letra == \"a\" or letra == \"A\":\n",
        "      vogais_dic[\"a\"] += 1\n",
        "    elif letra == \"e\" or letra == \"E\":\n",
        "      vogais_dic[\"e\"] += 1\n",
        "    elif letra == \"i\" or letra == \"I\":\n",
        "      vogais_dic[\"i\"] += 1\n",
        "    elif letra == \"o\" or letra == \"O\":\n",
        "      vogais_dic[\"o\"] += 1\n",
        "    elif letra == \"u\" or letra == \"U\":\n",
        "      vogais_dic[\"u\"] += 1\n",
        "  return vogais\n",
        "while True:\n",
        "  escolha = input('Digite caracteres ou sair para finalizar: ')\n",
        "  if escolha == \"sair\" or escolha == \"Sair\":\n",
        "    break\n",
        "  resultado = vogais(escolha)\n",
        "  print(f\"A quantidades de vogais a, e, i, o, u são: {vogais(escolha)}.\")\n",
        "  #Porque não chamei a funçõ diretamente no print ao invès de criar uma vriável?\n",
        "  #R= f-string vai tentar transformar tudo em string, só que a função retorna um objeto, que é o dicionário.\n",
        "  # e dicionáios possuem uma representação diferente de outros objetos."
      ]
    },
    {
      "cell_type": "markdown",
      "source": [
        "3. Escreva uma função recursiva chamada fatorial(n) que receba um número inteiro positivo n e retorne seu fatorial."
      ],
      "metadata": {
        "id": "qSKQ8TTNstWi"
      }
    },
    {
      "cell_type": "code",
      "source": [],
      "metadata": {
        "id": "5g_ITDWctL6m"
      },
      "execution_count": null,
      "outputs": []
    },
    {
      "cell_type": "markdown",
      "source": [
        "\n",
        "4. Desenvolva uma função primos(a, b) que receba dois números inteiros a e b e retorne uma lista contendo todos os números primos dentro desse intervalo (inclusive a e b, se forem primos)."
      ],
      "metadata": {
        "id": "aLLbNnsHswnx"
      }
    },
    {
      "cell_type": "code",
      "source": [],
      "metadata": {
        "id": "bKNxVmW-tMmu"
      },
      "execution_count": null,
      "outputs": []
    },
    {
      "cell_type": "markdown",
      "source": [
        "5. Crie uma função ordenar_por_tamanho(lista_palavras) que receba uma lista de palavras e retorne a lista ordenada pelo tamanho das palavras, da menor para a maior"
      ],
      "metadata": {
        "id": "oAhwGmh3s5jT"
      }
    }
  ]
}